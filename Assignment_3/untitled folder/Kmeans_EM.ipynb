{
 "cells": [
  {
   "cell_type": "code",
   "execution_count": 2,
   "metadata": {},
   "outputs": [],
   "source": [
    "import cv2\n",
    "import numpy as np\n",
    "import matplotlib.pyplot as plt\n",
    "\n",
    "def getDistance(point, c):\n",
    "    distance = np.sqrt([(c[0] - point[0])**2+(c[1] - point[1])**2+(c[2] - point[2])**2])\n",
    "    return distance[0]\n",
    "\n",
    "\n",
    "def kMeans(img, k):\n",
    "    c_x = c_y = c_z = np.array([0]*k)\n",
    "    \n",
    "    for c in range(k):\n",
    "        center = c*255//k\n",
    "        c_x[c]=c_y[c]=c_z[c]=center\n",
    "    centers = np.array(list(zip(c_x, c_y, c_z)), dtype=np.float32)\n",
    "    \n",
    "    clusterAvg = np.asarray([[0,0,0]]*k)\n",
    "    clusterProbs = np.zeros(len(img))\n",
    "    \n",
    "    for it in range(11):\n",
    "        clusterPixNum = np.asarray([[0,0,0]]*k)\n",
    "        clusterSum = np.asarray([[0,0,0]]*k)\n",
    "        \n",
    "        if(it != 0):\n",
    "            centers = clusterAvg\n",
    "            \n",
    "        for i in range(len(img)):\n",
    "            distances = [0]*k\n",
    "            for c in range(len(centers)):\n",
    "                distances[c] = getDistance(img[i], centers[c])\n",
    "                \n",
    "            closestCenterIndex = distances.index(min(distances))\n",
    "            clusterProbs[i] = closestCenterIndex\n",
    "            \n",
    "            clusterSum[closestCenterIndex] = clusterSum[closestCenterIndex]+img[i]\n",
    "            add = np.asarray([1,1,1])\n",
    "            clusterPixNum[closestCenterIndex] = add+clusterPixNum[closestCenterIndex]\n",
    "        \n",
    "        for i in range(k):\n",
    "            clusterAvg[i] = clusterSum[i]//clusterPixNum[i]\n",
    "    \n",
    "    return clusterProbs, clusterAvg"
   ]
  },
  {
   "cell_type": "code",
   "execution_count": 167,
   "metadata": {
    "scrolled": true
   },
   "outputs": [
    {
     "data": {
      "text/plain": [
       "<matplotlib.image.AxesImage at 0x1a2507acf8>"
      ]
     },
     "execution_count": 167,
     "metadata": {},
     "output_type": "execute_result"
    },
    {
     "data": {
      "image/png": "[encoded data removed]",
      "text/plain": [
       "<Figure size 432x288 with 1 Axes>"
      ]
     },
     "metadata": {},
     "output_type": "display_data"
    }
   ],
   "source": [
    "img_in = cv2.imread(\"home.jpg\")\n",
    "h, w, d = img_in.shape\n",
    "img = img_in.reshape((h * w, d))\n",
    "\n",
    "clusterProbs,clusterAvg = kMeans(img, 2)\n",
    "\n",
    "clusterAvg = np.uint8(clusterAvg)\n",
    "clusterProbs = np.uint8(clusterProbs)\n",
    "output = clusterAvg[clusterProbs.flatten()]\n",
    "output = output.reshape((img_in.shape))\n",
    "plt.imshow(cv2.cvtColor(output, cv2.COLOR_BGR2RGB))"
   ]
  },
  {
   "cell_type": "code",
   "execution_count": 168,
   "metadata": {},
   "outputs": [
    {
     "data": {
      "text/plain": [
       "<matplotlib.image.AxesImage at 0x1a23c20860>"
      ]
     },
     "execution_count": 168,
     "metadata": {},
     "output_type": "execute_result"
    },
    {
     "data": {
      "image/png": "[encoded data removed]",
      "text/plain": [
       "<Figure size 432x288 with 1 Axes>"
      ]
     },
     "metadata": {},
     "output_type": "display_data"
    }
   ],
   "source": [
    "img_in = cv2.imread(\"home.jpg\")\n",
    "h, w, d = img_in.shape\n",
    "img = img_in.reshape((h * w, d))\n",
    "\n",
    "clusterProbs,clusterAvg = kMeans(img, 3)\n",
    "\n",
    "clusterAvg = np.uint8(clusterAvg)\n",
    "clusterProbs = np.uint8(clusterProbs)\n",
    "output = clusterAvg[clusterProbs.flatten()]\n",
    "output = output.reshape((img_in.shape))\n",
    "plt.imshow(cv2.cvtColor(output, cv2.COLOR_BGR2RGB))"
   ]
  },
  {
   "cell_type": "code",
   "execution_count": 3,
   "metadata": {},
   "outputs": [],
   "source": [
    "import numpy as np\n",
    "import math\n",
    "def multivariate_normal_fun(x, means, covs):\n",
    "    size = len(means)\n",
    "    if size == len(means) and (size, size) == covs.shape:\n",
    "        det = np.linalg.det(covs)\n",
    "        norm_const = 1/(((2*np.pi)**(size/2))*(det**(1/2)))\n",
    "        x_m = x - means\n",
    "        result = (-1/2) * (x_m.T.dot(np.linalg.inv(covs))).dot(x_m)\n",
    "        return float(norm_const * np.exp(result))"
   ]
  },
  {
   "cell_type": "code",
   "execution_count": 4,
   "metadata": {},
   "outputs": [],
   "source": [
    "import numpy as np\n",
    "import cv2\n",
    "import matplotlib.pyplot as plt\n",
    "# from scipy.stats import multivariate_normal\n",
    "\n",
    "def init(img, k):\n",
    "    clusterProbs = np.random.rand(k)\n",
    "    clusterProbs = clusterProbs / np.sum(clusterProbs)\n",
    "\n",
    "#     c_x = np.random.rand(k)*100\n",
    "#     c_y = np.random.rand(k)*100\n",
    "#     c_z = np.random.rand(k)\n",
    "#     clusterMeans = np.array(list(zip(c_x, c_y, c_z)), dtype=np.float32)\n",
    "\n",
    "#     We could initialize to random cluster centers (means) but kmeans centers give better end results \n",
    "#     Uncomment the code aove and comment this one for random centers\n",
    "    _, clusterMeans = kMeans(img, k)\n",
    "\n",
    "    clusterCovariances = np.array([np.identity(3)*100] * k)\n",
    "\n",
    "    return clusterProbs, clusterMeans, clusterCovariances\n",
    "\n",
    "def expectation(img, clusterProbs, clusterMeans, clusterCovariences, k):\n",
    "    n, d = img.shape\n",
    "\n",
    "#   for each point find the probability that it belongs to each cluster\n",
    "#   by multiplying the cluster's probability (initial assignment is random)\n",
    "#   and the the multivariate Gaussian of the point\n",
    "    pointProbsK = np.array([np.zeros(n)]*k)\n",
    "    \n",
    "#     uncomment this code to run the algorithm with the scipy library which runs faster and gives the same end result\n",
    "#     for c in range(k):\n",
    "#         multivariate_normal_ = multivariate_normal.pdf(img, clusterMeans[c], clusterCovariences[c])\n",
    "#         pointProbsK[c] = clusterProbs[c]*multivariate_normal_\n",
    "    \n",
    "    for c in range(k):\n",
    "        for i in range(img.shape[0]):\n",
    "            multivariate_normal = multivariate_normal_fun(img[i], clusterMeans[c], clusterCovariences[c])\n",
    "            pointProbsK[c][i] = clusterProbs[c]*multivariate_normal\n",
    "    \n",
    "    sum_pointProbsK = np.sum(pointProbsK, axis=0)\n",
    "    pointProbsK = pointProbsK / sum_pointProbsK\n",
    "    return pointProbsK\n",
    "\n",
    "def maximization(img, pointProbsK, k):\n",
    "    n, d = img.shape\n",
    "    \n",
    "#   for each cluster calculate the weight and probability of the cluster\n",
    "#   by adding and averaging (in that order) the probability of each point belonging to the cluster\n",
    "    totalWeightsPerCluster = np.sum(pointProbsK, axis=1)\n",
    "    clusterProbs = totalWeightsPerCluster / n\n",
    "\n",
    "    means = np.zeros((k, d))\n",
    "# to calculate new means of the clusters sum all the possibilities of cluster c\n",
    "    for i in range(k):\n",
    "        means[i] = np.dot(pointProbsK[i], img) / totalWeightsPerCluster[i]\n",
    "\n",
    "    covariances = np.array([np.identity(3)*100] * k)\n",
    "    for i in range(k):\n",
    "        diff = img - means[i]\n",
    "        covariances[i] = np.dot(pointProbsK[i] * diff.T, diff) /  totalWeightsPerCluster[i]\n",
    "    \n",
    "    return clusterProbs, means, covariances"
   ]
  },
  {
   "cell_type": "code",
   "execution_count": 5,
   "metadata": {},
   "outputs": [
    {
     "data": {
      "image/png": "[encoded data removed]",
      "text/plain": [
       "<Figure size 432x288 with 1 Axes>"
      ]
     },
     "metadata": {},
     "output_type": "display_data"
    }
   ],
   "source": [
    "img_in = cv2.imread(\"home.jpg\")\n",
    "h, w, d = img_in.shape\n",
    "img = img_in.reshape((h * w, d))\n",
    "\n",
    "probsi, meansi, covi = init(img, 2)\n",
    "probs = probsi\n",
    "means = meansi\n",
    "cov = covi\n",
    "\n",
    "for i in range(10):\n",
    "    pointProbsPerK = expectation(img, probs, means , cov, 2)\n",
    "    probs, means, cov = maximization(img, pointProbsPerK, 2)\n",
    "\n",
    "labels = np.argmax(pointProbsPerK, axis=0)\n",
    "\n",
    "output = np.asarray(means[labels.reshape((h, w, 1))], dtype=np.uint8)\n",
    "output = output.reshape(h,w,d)\n",
    "plt.imshow(cv2.cvtColor(output, cv2.COLOR_BGR2RGB))\n",
    "plt.show()\n"
   ]
  },
  {
   "cell_type": "code",
   "execution_count": 45,
   "metadata": {},
   "outputs": [
    {
     "data": {
      "image/png": "[encoded data removed]",
      "text/plain": [
       "<Figure size 432x288 with 1 Axes>"
      ]
     },
     "metadata": {},
     "output_type": "display_data"
    }
   ],
   "source": [
    "img_in = cv2.imread(\"home.jpg\")\n",
    "h, w, d = img_in.shape\n",
    "img = img_in.reshape((h * w, d))\n",
    "\n",
    "probs, means, cov = init(img, 3)\n",
    "for i in range(10):\n",
    "    pointProbsPerK = expectation(img, probs, means , cov, 3)\n",
    "    probs, means, cov = maximization(img, pointProbsPerK, 3)\n",
    "\n",
    "labels = np.argmax(pointProbsPerK, axis=0)\n",
    "\n",
    "output = np.asarray(means[labels.reshape((h, w, 1))], dtype=np.uint8)\n",
    "output = output.reshape(h,w,d)\n",
    "plt.imshow(cv2.cvtColor(output, cv2.COLOR_BGR2RGB))\n",
    "plt.show()"
   ]
  },
  {
   "cell_type": "markdown",
   "metadata": {},
   "source": [
    "Assuming we use the same initial centers for clusters if we choose a covariance of 0 for the EM algorithm and make sure we iterate fully at least once we will get the same results from EM and K_Means"
   ]
  },
  {
   "cell_type": "code",
   "execution_count": null,
   "metadata": {},
   "outputs": [],
   "source": []
  }
 ],
 "metadata": {
  "kernelspec": {
   "display_name": "Python 3",
   "language": "python",
   "name": "python3"
  },
  "language_info": {
   "codemirror_mode": {
    "name": "ipython",
    "version": 3
   },
   "file_extension": ".py",
   "mimetype": "text/x-python",
   "name": "python",
   "nbconvert_exporter": "python",
   "pygments_lexer": "ipython3",
   "version": "3.6.5"
  }
 },
 "nbformat": 4,
 "nbformat_minor": 2
}
