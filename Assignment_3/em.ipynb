{
 "cells": [
  {
   "cell_type": "code",
   "execution_count": null,
   "metadata": {},
   "outputs": [],
   "source": [
    "import numpy as np\n",
    "import math, cv2\n",
    "from matplotlib import image\n",
    "import scipy.stats as st\n",
    "import matplotlib.pyplot as plt\n",
    "\n",
    "def init(img, k):\n",
    "    clusterProbs = np.random.rand(k)\n",
    "    clusterProbs = clusterProbs / np.sum(clusterProbs)\n",
    "\n",
    "#     c_x = np.random.rand(k)*100\n",
    "#     c_y = np.random.rand(k)*100\n",
    "#     c_z = np.random.rand(k)\n",
    "#     clusterMeans = np.array(list(zip(c_x, c_y, c_z)), dtype=np.float32)\n",
    "\n",
    "    _, clusterMeans = kMeans(img, k)\n",
    "\n",
    "    clusterCovariances = np.array([np.identity(3)*100] * k)\n",
    "\n",
    "    return clusterProbs, clusterMeans, clusterCovariances\n",
    "\n",
    "def expectation(img, clusterProbs, clusterMeans, clusterCovariences, k):\n",
    "    n, d = img.shape\n",
    "\n",
    "#   for each point find the probability that it belongs to each cluster\n",
    "#   by multiplying the cluster's probability (initial assignment is random)\n",
    "#   and the the multivariate Gaussian of the point\n",
    "    pointProbsK = np.array([np.zeros(n)]*k)\n",
    "    \n",
    "    for i in range(k):\n",
    "        multivariate_normal = st.multivariate_normal.pdf(img, clusterMeans[i], clusterCovariences[i])\n",
    "        pointProbsK[i] = clusterProbs[i]*multivariate_normal\n",
    "    \n",
    "    sum_pointProbsK = np.sum(pointProbsK, axis=0)\n",
    "    pointProbsK = pointProbsK / sum_pointProbsK\n",
    "    return pointProbsK\n",
    "\n",
    "def maximization(img, pointProbsK, k):\n",
    "    n, d = img.shape\n",
    "    \n",
    "#   for each cluster calculate the weight and probability of the cluster\n",
    "#   by adding and averaging (in that order) the probability of each point belonging to the cluster\n",
    "    totalWeightsPerCluster = np.sum(pointProbsK, axis=1)\n",
    "    clusterProbs = totalWeightsPerCluster / n\n",
    "\n",
    "    means = np.zeros((k, d))\n",
    "# to calculate new means of the clusters sum all the possibilities of cluster c\n",
    "    for i in range(k):\n",
    "        means[i] = np.dot(pointProbsK[i], img) / totalWeightsPerCluster[i]\n",
    "\n",
    "    covariances = np.array([np.identity(3)*100] * k)\n",
    "    for i in range(k):\n",
    "        diff = img - means[i]\n",
    "        covariances[i] = np.dot(pointProbsK[i] * diff.T, diff) /  totalWeightsPerCluster[i]\n",
    "    \n",
    "    return clusterProbs, means, covariances"
   ]
  }
 ],
 "metadata": {
  "kernelspec": {
   "display_name": "Python 3",
   "language": "python",
   "name": "python3"
  },
  "language_info": {
   "codemirror_mode": {
    "name": "ipython",
    "version": 3
   },
   "file_extension": ".py",
   "mimetype": "text/x-python",
   "name": "python",
   "nbconvert_exporter": "python",
   "pygments_lexer": "ipython3",
   "version": "3.6.5"
  }
 },
 "nbformat": 4,
 "nbformat_minor": 2
}
